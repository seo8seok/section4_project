{
 "cells": [
  {
   "cell_type": "markdown",
   "metadata": {},
   "source": [
    "### 주제 :  네이버 영화 리뷰 감정 분석 \n",
    "\n",
    "#### - 프로젝트 목적 :  수많은 정보의 바다에서 빠르게 정보의 감정을 분별하기 위함 \n",
    "\n",
    "#### - 가설 : 텍스트를 학습하여 글감정을 분류할 수 있다. \n",
    "\n",
    "#### - 활용 방안  :  사람들이 남기는 댓글,평가에서 사람들의 반응을 빠르게 알아 볼 수 있다. 반응을 보고 개선 할지 이대로 가면될지 등을 결정 할 수 있다. \n",
    "\n"
   ]
  },
  {
   "cell_type": "code",
   "execution_count": 8,
   "metadata": {},
   "outputs": [
    {
     "name": "stdout",
     "output_type": "stream",
     "text": [
      "Requirement already satisfied: matplotlib in /Users/tjrksp/opt/anaconda3/envs/s3n2/lib/python3.8/site-packages (3.6.0)\n",
      "Requirement already satisfied: fonttools>=4.22.0 in /Users/tjrksp/opt/anaconda3/envs/s3n2/lib/python3.8/site-packages (from matplotlib) (4.37.4)\n",
      "Requirement already satisfied: packaging>=20.0 in /Users/tjrksp/opt/anaconda3/envs/s3n2/lib/python3.8/site-packages (from matplotlib) (21.3)\n",
      "Requirement already satisfied: kiwisolver>=1.0.1 in /Users/tjrksp/opt/anaconda3/envs/s3n2/lib/python3.8/site-packages (from matplotlib) (1.4.4)\n",
      "Requirement already satisfied: python-dateutil>=2.7 in /Users/tjrksp/opt/anaconda3/envs/s3n2/lib/python3.8/site-packages (from matplotlib) (2.8.2)\n",
      "Requirement already satisfied: numpy>=1.19 in /Users/tjrksp/opt/anaconda3/envs/s3n2/lib/python3.8/site-packages (from matplotlib) (1.23.2)\n",
      "Requirement already satisfied: contourpy>=1.0.1 in /Users/tjrksp/opt/anaconda3/envs/s3n2/lib/python3.8/site-packages (from matplotlib) (1.0.5)\n",
      "Requirement already satisfied: pillow>=6.2.0 in /Users/tjrksp/opt/anaconda3/envs/s3n2/lib/python3.8/site-packages (from matplotlib) (9.2.0)\n",
      "Requirement already satisfied: cycler>=0.10 in /Users/tjrksp/opt/anaconda3/envs/s3n2/lib/python3.8/site-packages (from matplotlib) (0.11.0)\n",
      "Requirement already satisfied: pyparsing>=2.2.1 in /Users/tjrksp/opt/anaconda3/envs/s3n2/lib/python3.8/site-packages (from matplotlib) (3.0.9)\n",
      "Requirement already satisfied: six>=1.5 in /Users/tjrksp/opt/anaconda3/envs/s3n2/lib/python3.8/site-packages (from python-dateutil>=2.7->matplotlib) (1.16.0)\n"
     ]
    }
   ],
   "source": [
    "!pip install matplotlib"
   ]
  },
  {
   "cell_type": "code",
   "execution_count": 14,
   "metadata": {},
   "outputs": [
    {
     "name": "stdout",
     "output_type": "stream",
     "text": [
      "Collecting tqdm\n",
      "  Downloading tqdm-4.64.1-py2.py3-none-any.whl (78 kB)\n",
      "\u001b[2K     \u001b[90m━━━━━━━━━━━━━━━━━━━━━━━━━━━━━━━━━━━━━━━━\u001b[0m \u001b[32m78.5/78.5 kB\u001b[0m \u001b[31m1.7 MB/s\u001b[0m eta \u001b[36m0:00:00\u001b[0ma \u001b[36m0:00:01\u001b[0m\n",
      "\u001b[?25hInstalling collected packages: tqdm\n",
      "Successfully installed tqdm-4.64.1\n"
     ]
    }
   ],
   "source": [
    "!pip install tqdm"
   ]
  },
  {
   "cell_type": "code",
   "execution_count": 15,
   "metadata": {},
   "outputs": [
    {
     "name": "stderr",
     "output_type": "stream",
     "text": [
      "2022-10-02 19:27:14.043101: I tensorflow/core/platform/cpu_feature_guard.cc:193] This TensorFlow binary is optimized with oneAPI Deep Neural Network Library (oneDNN) to use the following CPU instructions in performance-critical operations:  AVX2 FMA\n",
      "To enable them in other operations, rebuild TensorFlow with the appropriate compiler flags.\n"
     ]
    }
   ],
   "source": [
    "import matplotlib.pyplot as plt  \n",
    "import numpy as np \n",
    "import pandas as pd\n",
    "\n",
    "import re\n",
    "import urllib.request\n",
    "from konlpy.tag import Okt, Mecab\n",
    "from tqdm import tqdm\n",
    "from tensorflow.keras.preprocessing.text import Tokenizer\n",
    "from tensorflow.keras.preprocessing.sequence import pad_sequences"
   ]
  },
  {
   "cell_type": "markdown",
   "metadata": {},
   "source": [
    "### 데이터 가져오기 "
   ]
  },
  {
   "cell_type": "code",
   "execution_count": 19,
   "metadata": {},
   "outputs": [
    {
     "data": {
      "text/plain": [
       "('ratings_test.txt', <http.client.HTTPMessage at 0x7f9aabbcfd00>)"
      ]
     },
     "execution_count": 19,
     "metadata": {},
     "output_type": "execute_result"
    }
   ],
   "source": [
    "urllib.request.urlretrieve(\"https://raw.githubusercontent.com/e9t/nsmc/master/ratings_train.txt\", filename=\"ratings_train.txt\")\n",
    "urllib.request.urlretrieve(\"https://raw.githubusercontent.com/e9t/nsmc/master/ratings_test.txt\", filename=\"ratings_test.txt\")"
   ]
  },
  {
   "cell_type": "code",
   "execution_count": 20,
   "metadata": {},
   "outputs": [
    {
     "data": {
      "text/plain": [
       "(150000, 50000)"
      ]
     },
     "execution_count": 20,
     "metadata": {},
     "output_type": "execute_result"
    }
   ],
   "source": [
    "# 20만개의 네이버 영화 리뷰 데이터 \n",
    "train_data = pd.read_table('ratings_train.txt')\n",
    "test_data = pd.read_table('ratings_test.txt')\n",
    "len(train_data) , len(test_data)"
   ]
  },
  {
   "cell_type": "code",
   "execution_count": 21,
   "metadata": {},
   "outputs": [
    {
     "data": {
      "text/html": [
       "<div>\n",
       "<style scoped>\n",
       "    .dataframe tbody tr th:only-of-type {\n",
       "        vertical-align: middle;\n",
       "    }\n",
       "\n",
       "    .dataframe tbody tr th {\n",
       "        vertical-align: top;\n",
       "    }\n",
       "\n",
       "    .dataframe thead th {\n",
       "        text-align: right;\n",
       "    }\n",
       "</style>\n",
       "<table border=\"1\" class=\"dataframe\">\n",
       "  <thead>\n",
       "    <tr style=\"text-align: right;\">\n",
       "      <th></th>\n",
       "      <th>id</th>\n",
       "      <th>document</th>\n",
       "      <th>label</th>\n",
       "    </tr>\n",
       "  </thead>\n",
       "  <tbody>\n",
       "    <tr>\n",
       "      <th>0</th>\n",
       "      <td>9976970</td>\n",
       "      <td>아 더빙.. 진짜 짜증나네요 목소리</td>\n",
       "      <td>0</td>\n",
       "    </tr>\n",
       "    <tr>\n",
       "      <th>1</th>\n",
       "      <td>3819312</td>\n",
       "      <td>흠...포스터보고 초딩영화줄....오버연기조차 가볍지 않구나</td>\n",
       "      <td>1</td>\n",
       "    </tr>\n",
       "    <tr>\n",
       "      <th>2</th>\n",
       "      <td>10265843</td>\n",
       "      <td>너무재밓었다그래서보는것을추천한다</td>\n",
       "      <td>0</td>\n",
       "    </tr>\n",
       "    <tr>\n",
       "      <th>3</th>\n",
       "      <td>9045019</td>\n",
       "      <td>교도소 이야기구먼 ..솔직히 재미는 없다..평점 조정</td>\n",
       "      <td>0</td>\n",
       "    </tr>\n",
       "    <tr>\n",
       "      <th>4</th>\n",
       "      <td>6483659</td>\n",
       "      <td>사이몬페그의 익살스런 연기가 돋보였던 영화!스파이더맨에서 늙어보이기만 했던 커스틴 ...</td>\n",
       "      <td>1</td>\n",
       "    </tr>\n",
       "  </tbody>\n",
       "</table>\n",
       "</div>"
      ],
      "text/plain": [
       "         id                                           document  label\n",
       "0   9976970                                아 더빙.. 진짜 짜증나네요 목소리      0\n",
       "1   3819312                  흠...포스터보고 초딩영화줄....오버연기조차 가볍지 않구나      1\n",
       "2  10265843                                  너무재밓었다그래서보는것을추천한다      0\n",
       "3   9045019                      교도소 이야기구먼 ..솔직히 재미는 없다..평점 조정      0\n",
       "4   6483659  사이몬페그의 익살스런 연기가 돋보였던 영화!스파이더맨에서 늙어보이기만 했던 커스틴 ...      1"
      ]
     },
     "execution_count": 21,
     "metadata": {},
     "output_type": "execute_result"
    }
   ],
   "source": [
    "train_data[:5] "
   ]
  },
  {
   "cell_type": "markdown",
   "metadata": {},
   "source": [
    "### 전처리 "
   ]
  },
  {
   "cell_type": "code",
   "execution_count": 22,
   "metadata": {},
   "outputs": [
    {
     "data": {
      "text/plain": [
       "(146182, 2)"
      ]
     },
     "execution_count": 22,
     "metadata": {},
     "output_type": "execute_result"
    }
   ],
   "source": [
    "# 중복 체크  \n",
    "train_data['document'].nunique(), train_data['label'].nunique()"
   ]
  },
  {
   "cell_type": "code",
   "execution_count": 23,
   "metadata": {},
   "outputs": [],
   "source": [
    "# 중복 제거 \n",
    "train_data.drop_duplicates(subset=['document'], inplace=True)"
   ]
  },
  {
   "cell_type": "code",
   "execution_count": 24,
   "metadata": {},
   "outputs": [
    {
     "data": {
      "text/plain": [
       "146183"
      ]
     },
     "execution_count": 24,
     "metadata": {},
     "output_type": "execute_result"
    }
   ],
   "source": [
    "len(train_data)"
   ]
  },
  {
   "cell_type": "code",
   "execution_count": 25,
   "metadata": {},
   "outputs": [
    {
     "data": {
      "text/plain": [
       "<AxesSubplot: >"
      ]
     },
     "execution_count": 25,
     "metadata": {},
     "output_type": "execute_result"
    },
    {
     "data": {
      "image/png": "[encoded data removed]",
      "text/plain": [
       "<Figure size 640x480 with 1 Axes>"
      ]
     },
     "metadata": {},
     "output_type": "display_data"
    }
   ],
   "source": [
    "# 데이터 비율 반반 \n",
    "train_data['label'].value_counts().plot(kind = 'bar')"
   ]
  },
  {
   "cell_type": "code",
   "execution_count": 27,
   "metadata": {},
   "outputs": [
    {
     "data": {
      "text/plain": [
       "(True,\n",
       " id          0\n",
       " document    1\n",
       " label       0\n",
       " dtype: int64)"
      ]
     },
     "execution_count": 27,
     "metadata": {},
     "output_type": "execute_result"
    }
   ],
   "source": [
    "# null check :  1개 \n",
    "train_data.isnull().values.any(), train_data.isnull().sum()"
   ]
  },
  {
   "cell_type": "code",
   "execution_count": 28,
   "metadata": {},
   "outputs": [
    {
     "data": {
      "text/plain": [
       "146182"
      ]
     },
     "execution_count": 28,
     "metadata": {},
     "output_type": "execute_result"
    }
   ],
   "source": [
    "# null remove  \n",
    "train_data.dropna(subset=\"document\", inplace=True)\n",
    "len(train_data)"
   ]
  },
  {
   "cell_type": "code",
   "execution_count": 31,
   "metadata": {},
   "outputs": [
    {
     "data": {
      "text/plain": [
       "False"
      ]
     },
     "execution_count": 31,
     "metadata": {},
     "output_type": "execute_result"
    }
   ],
   "source": [
    "# null check : 없음 \n",
    "train_data.isnull().values.any()"
   ]
  },
  {
   "cell_type": "code",
   "execution_count": 32,
   "metadata": {},
   "outputs": [
    {
     "name": "stderr",
     "output_type": "stream",
     "text": [
      "/var/folders/t9/bq0w6zc57lggtvdfc84ssq800000gn/T/ipykernel_98669/2092559641.py:1: FutureWarning: The default value of regex will change from True to False in a future version.\n",
      "  train_data['document'] = train_data['document'].str.replace(\"[^ㄱ-ㅎㅏ-ㅣ가-힣 ]\",\"\")\n"
     ]
    },
    {
     "data": {
      "text/html": [
       "<div>\n",
       "<style scoped>\n",
       "    .dataframe tbody tr th:only-of-type {\n",
       "        vertical-align: middle;\n",
       "    }\n",
       "\n",
       "    .dataframe tbody tr th {\n",
       "        vertical-align: top;\n",
       "    }\n",
       "\n",
       "    .dataframe thead th {\n",
       "        text-align: right;\n",
       "    }\n",
       "</style>\n",
       "<table border=\"1\" class=\"dataframe\">\n",
       "  <thead>\n",
       "    <tr style=\"text-align: right;\">\n",
       "      <th></th>\n",
       "      <th>id</th>\n",
       "      <th>document</th>\n",
       "      <th>label</th>\n",
       "    </tr>\n",
       "  </thead>\n",
       "  <tbody>\n",
       "    <tr>\n",
       "      <th>0</th>\n",
       "      <td>9976970</td>\n",
       "      <td>아 더빙 진짜 짜증나네요 목소리</td>\n",
       "      <td>0</td>\n",
       "    </tr>\n",
       "    <tr>\n",
       "      <th>1</th>\n",
       "      <td>3819312</td>\n",
       "      <td>흠포스터보고 초딩영화줄오버연기조차 가볍지 않구나</td>\n",
       "      <td>1</td>\n",
       "    </tr>\n",
       "    <tr>\n",
       "      <th>2</th>\n",
       "      <td>10265843</td>\n",
       "      <td>너무재밓었다그래서보는것을추천한다</td>\n",
       "      <td>0</td>\n",
       "    </tr>\n",
       "    <tr>\n",
       "      <th>3</th>\n",
       "      <td>9045019</td>\n",
       "      <td>교도소 이야기구먼 솔직히 재미는 없다평점 조정</td>\n",
       "      <td>0</td>\n",
       "    </tr>\n",
       "    <tr>\n",
       "      <th>4</th>\n",
       "      <td>6483659</td>\n",
       "      <td>사이몬페그의 익살스런 연기가 돋보였던 영화스파이더맨에서 늙어보이기만 했던 커스틴 던...</td>\n",
       "      <td>1</td>\n",
       "    </tr>\n",
       "  </tbody>\n",
       "</table>\n",
       "</div>"
      ],
      "text/plain": [
       "         id                                           document  label\n",
       "0   9976970                                  아 더빙 진짜 짜증나네요 목소리      0\n",
       "1   3819312                         흠포스터보고 초딩영화줄오버연기조차 가볍지 않구나      1\n",
       "2  10265843                                  너무재밓었다그래서보는것을추천한다      0\n",
       "3   9045019                          교도소 이야기구먼 솔직히 재미는 없다평점 조정      0\n",
       "4   6483659  사이몬페그의 익살스런 연기가 돋보였던 영화스파이더맨에서 늙어보이기만 했던 커스틴 던...      1"
      ]
     },
     "execution_count": 32,
     "metadata": {},
     "output_type": "execute_result"
    }
   ],
   "source": [
    "# 한글 띄어쓰기 뺴고 전부 제거 \n",
    "train_data['document'] = train_data['document'].str.replace(\"[^ㄱ-ㅎㅏ-ㅣ가-힣 ]\",\"\")\n",
    "train_data[:5]"
   ]
  },
  {
   "cell_type": "code",
   "execution_count": 227,
   "metadata": {},
   "outputs": [],
   "source": [
    "#공백만 남는 열 nan 처리하고 지워주기 \n",
    "# train_data[\"document\"] = train_data['document'].str.replace('', np.nan)\n",
    "train_data[\"document\"] = train_data['document'].replace(' ', np.nan)"
   ]
  },
  {
   "cell_type": "code",
   "execution_count": 231,
   "metadata": {},
   "outputs": [
    {
     "data": {
      "text/plain": [
       "0"
      ]
     },
     "execution_count": 231,
     "metadata": {},
     "output_type": "execute_result"
    }
   ],
   "source": [
    "train_data[\"document\"].isnull().sum()"
   ]
  },
  {
   "cell_type": "code",
   "execution_count": 229,
   "metadata": {},
   "outputs": [],
   "source": [
    "\n",
    "train_data.dropna(subset=\"document\", inplace= True)"
   ]
  },
  {
   "cell_type": "code",
   "execution_count": 376,
   "metadata": {},
   "outputs": [
    {
     "data": {
      "text/html": [
       "<div>\n",
       "<style scoped>\n",
       "    .dataframe tbody tr th:only-of-type {\n",
       "        vertical-align: middle;\n",
       "    }\n",
       "\n",
       "    .dataframe tbody tr th {\n",
       "        vertical-align: top;\n",
       "    }\n",
       "\n",
       "    .dataframe thead th {\n",
       "        text-align: right;\n",
       "    }\n",
       "</style>\n",
       "<table border=\"1\" class=\"dataframe\">\n",
       "  <thead>\n",
       "    <tr style=\"text-align: right;\">\n",
       "      <th></th>\n",
       "      <th>id</th>\n",
       "      <th>document</th>\n",
       "      <th>label</th>\n",
       "    </tr>\n",
       "  </thead>\n",
       "  <tbody>\n",
       "    <tr>\n",
       "      <th>1438</th>\n",
       "      <td>7996509</td>\n",
       "      <td>해병으로 꼭 나와야만 했나요 손자나 그년이나 손자 친구년놈들이나 ㅉㅉ</td>\n",
       "      <td>0</td>\n",
       "    </tr>\n",
       "    <tr>\n",
       "      <th>916</th>\n",
       "      <td>39563</td>\n",
       "      <td>좋네괜찮고</td>\n",
       "      <td>1</td>\n",
       "    </tr>\n",
       "    <tr>\n",
       "      <th>118881</th>\n",
       "      <td>9790849</td>\n",
       "      <td>평점이 넘 높아서 로긴함</td>\n",
       "      <td>0</td>\n",
       "    </tr>\n",
       "    <tr>\n",
       "      <th>16227</th>\n",
       "      <td>8536293</td>\n",
       "      <td>와 이걸 이제야 보다니</td>\n",
       "      <td>1</td>\n",
       "    </tr>\n",
       "    <tr>\n",
       "      <th>1529</th>\n",
       "      <td>7194828</td>\n",
       "      <td>마지막 결말이 소름 돌아서 지금도 소름 돌네요</td>\n",
       "      <td>1</td>\n",
       "    </tr>\n",
       "    <tr>\n",
       "      <th>101073</th>\n",
       "      <td>10184587</td>\n",
       "      <td>영화를 감히 평가하는 너네 평론가들 때문에 평범한영화가 더 저급해 지는거야 이 사회...</td>\n",
       "      <td>1</td>\n",
       "    </tr>\n",
       "    <tr>\n",
       "      <th>58865</th>\n",
       "      <td>8077934</td>\n",
       "      <td>재미재미잼잼 보고말해라</td>\n",
       "      <td>1</td>\n",
       "    </tr>\n",
       "    <tr>\n",
       "      <th>84843</th>\n",
       "      <td>8066537</td>\n",
       "      <td>엘렌진짜사랑스럽다</td>\n",
       "      <td>1</td>\n",
       "    </tr>\n",
       "    <tr>\n",
       "      <th>116292</th>\n",
       "      <td>8676391</td>\n",
       "      <td>논스톱시청 감정선 쭈욱 이어진 캐릭터도 캐스팅도 스토리도 도 다 좋은 군더더기 없는...</td>\n",
       "      <td>1</td>\n",
       "    </tr>\n",
       "    <tr>\n",
       "      <th>10124</th>\n",
       "      <td>8680004</td>\n",
       "      <td>대학 동아리에서 대충 만든 영화 아니 그냥 쓸데없는 동영상 같은 느낌 단역들 대사는...</td>\n",
       "      <td>0</td>\n",
       "    </tr>\n",
       "    <tr>\n",
       "      <th>23202</th>\n",
       "      <td>6049170</td>\n",
       "      <td>정신나간 영화</td>\n",
       "      <td>0</td>\n",
       "    </tr>\n",
       "    <tr>\n",
       "      <th>30627</th>\n",
       "      <td>6381919</td>\n",
       "      <td>엔딩 만 좋다</td>\n",
       "      <td>0</td>\n",
       "    </tr>\n",
       "    <tr>\n",
       "      <th>1365</th>\n",
       "      <td>5476246</td>\n",
       "      <td>아오</td>\n",
       "      <td>0</td>\n",
       "    </tr>\n",
       "    <tr>\n",
       "      <th>114906</th>\n",
       "      <td>10202588</td>\n",
       "      <td>상은 많이 받은 작품인데</td>\n",
       "      <td>0</td>\n",
       "    </tr>\n",
       "    <tr>\n",
       "      <th>40958</th>\n",
       "      <td>82048</td>\n",
       "      <td>관객 만도 못넘을듯</td>\n",
       "      <td>0</td>\n",
       "    </tr>\n",
       "    <tr>\n",
       "      <th>28997</th>\n",
       "      <td>4176764</td>\n",
       "      <td>공갈 수사물 화면 색감은 탁월하다</td>\n",
       "      <td>0</td>\n",
       "    </tr>\n",
       "    <tr>\n",
       "      <th>77834</th>\n",
       "      <td>9427223</td>\n",
       "      <td>제구인달 제구인달 제구인달 제구인달</td>\n",
       "      <td>0</td>\n",
       "    </tr>\n",
       "    <tr>\n",
       "      <th>143378</th>\n",
       "      <td>8031794</td>\n",
       "      <td>음악적으로나 연기적으로나 별로 였던거 같다 별 감동이 없었다</td>\n",
       "      <td>1</td>\n",
       "    </tr>\n",
       "    <tr>\n",
       "      <th>35468</th>\n",
       "      <td>7405650</td>\n",
       "      <td>한정된 공간안에서 이런 스토리를 만들어낸 게 놀랍다 꽤나 잘 만들어진 영화</td>\n",
       "      <td>1</td>\n",
       "    </tr>\n",
       "    <tr>\n",
       "      <th>38986</th>\n",
       "      <td>1274486</td>\n",
       "      <td>아기자기하고 귀엽게 잘만든 스포츠코미디여자들 야구 잘하네</td>\n",
       "      <td>1</td>\n",
       "    </tr>\n",
       "  </tbody>\n",
       "</table>\n",
       "</div>"
      ],
      "text/plain": [
       "              id                                           document  label\n",
       "1438     7996509             해병으로 꼭 나와야만 했나요 손자나 그년이나 손자 친구년놈들이나 ㅉㅉ      0\n",
       "916        39563                                              좋네괜찮고      1\n",
       "118881   9790849                                      평점이 넘 높아서 로긴함      0\n",
       "16227    8536293                                      와 이걸 이제야 보다니       1\n",
       "1529     7194828                          마지막 결말이 소름 돌아서 지금도 소름 돌네요      1\n",
       "101073  10184587  영화를 감히 평가하는 너네 평론가들 때문에 평범한영화가 더 저급해 지는거야 이 사회...      1\n",
       "58865    8077934                                       재미재미잼잼 보고말해라      1\n",
       "84843    8066537                                          엘렌진짜사랑스럽다      1\n",
       "116292   8676391  논스톱시청 감정선 쭈욱 이어진 캐릭터도 캐스팅도 스토리도 도 다 좋은 군더더기 없는...      1\n",
       "10124    8680004  대학 동아리에서 대충 만든 영화 아니 그냥 쓸데없는 동영상 같은 느낌 단역들 대사는...      0\n",
       "23202    6049170                                            정신나간 영화      0\n",
       "30627    6381919                                       엔딩 만 좋다           0\n",
       "1365     5476246                                                 아오      0\n",
       "114906  10202588                                      상은 많이 받은 작품인데      0\n",
       "40958      82048                                        관객 만도 못넘을듯       0\n",
       "28997    4176764                                 공갈 수사물 화면 색감은 탁월하다      0\n",
       "77834    9427223                                제구인달 제구인달 제구인달 제구인달      0\n",
       "143378   8031794                  음악적으로나 연기적으로나 별로 였던거 같다 별 감동이 없었다      1\n",
       "35468    7405650          한정된 공간안에서 이런 스토리를 만들어낸 게 놀랍다 꽤나 잘 만들어진 영화      1\n",
       "38986    1274486                    아기자기하고 귀엽게 잘만든 스포츠코미디여자들 야구 잘하네      1"
      ]
     },
     "execution_count": 376,
     "metadata": {},
     "output_type": "execute_result"
    }
   ],
   "source": [
    "\n",
    "train_data.sample(20)"
   ]
  },
  {
   "cell_type": "code",
   "execution_count": 341,
   "metadata": {},
   "outputs": [
    {
     "data": {
      "text/html": [
       "<div>\n",
       "<style scoped>\n",
       "    .dataframe tbody tr th:only-of-type {\n",
       "        vertical-align: middle;\n",
       "    }\n",
       "\n",
       "    .dataframe tbody tr th {\n",
       "        vertical-align: top;\n",
       "    }\n",
       "\n",
       "    .dataframe thead th {\n",
       "        text-align: right;\n",
       "    }\n",
       "</style>\n",
       "<table border=\"1\" class=\"dataframe\">\n",
       "  <thead>\n",
       "    <tr style=\"text-align: right;\">\n",
       "      <th></th>\n",
       "      <th>id</th>\n",
       "      <th>document</th>\n",
       "      <th>label</th>\n",
       "    </tr>\n",
       "  </thead>\n",
       "  <tbody>\n",
       "  </tbody>\n",
       "</table>\n",
       "</div>"
      ],
      "text/plain": [
       "Empty DataFrame\n",
       "Columns: [id, document, label]\n",
       "Index: []"
      ]
     },
     "execution_count": 341,
     "metadata": {},
     "output_type": "execute_result"
    }
   ],
   "source": [
    "train_data[train_data[\"document\"] ==  ' ']\n"
   ]
  },
  {
   "cell_type": "code",
   "execution_count": 342,
   "metadata": {},
   "outputs": [
    {
     "data": {
      "text/plain": [
       "id          0\n",
       "document    0\n",
       "label       0\n",
       "dtype: int64"
      ]
     },
     "execution_count": 342,
     "metadata": {},
     "output_type": "execute_result"
    }
   ],
   "source": [
    "train_data.isnull().sum()"
   ]
  },
  {
   "cell_type": "code",
   "execution_count": 234,
   "metadata": {},
   "outputs": [
    {
     "name": "stdout",
     "output_type": "stream",
     "text": [
      "전처리 후 테스트용 샘플의 개수 : 48852\n"
     ]
    },
    {
     "name": "stderr",
     "output_type": "stream",
     "text": [
      "/var/folders/t9/bq0w6zc57lggtvdfc84ssq800000gn/T/ipykernel_98669/3570305079.py:2: FutureWarning: The default value of regex will change from True to False in a future version.\n",
      "  test_data['document'] = test_data['document'].str.replace(\"[^ㄱ-ㅎㅏ-ㅣ가-힣 ]\",\"\") # 정규 표현식 수행\n",
      "/var/folders/t9/bq0w6zc57lggtvdfc84ssq800000gn/T/ipykernel_98669/3570305079.py:3: FutureWarning: The default value of regex will change from True to False in a future version.\n",
      "  test_data['document'] = test_data['document'].str.replace('^ +', \"\") # 공백은 empty 값으로 변경\n"
     ]
    }
   ],
   "source": [
    "test_data.drop_duplicates(subset = ['document'], inplace=True) # document 열에서 중복인 내용이 있다면 중복 제거\n",
    "test_data['document'] = test_data['document'].str.replace(\"[^ㄱ-ㅎㅏ-ㅣ가-힣 ]\",\"\") # 정규 표현식 수행\n",
    "test_data['document'] = test_data['document'].str.replace('^ +', \"\") # 공백은 empty 값으로 변경\n",
    "test_data['document'].replace('', np.nan, inplace=True) # 공백은 Null 값으로 변경\n",
    "test_data = test_data.dropna(how='any') # Null 값 제거\n",
    "print('전처리 후 테스트용 샘플의 개수 :',len(test_data))"
   ]
  },
  {
   "cell_type": "code",
   "execution_count": 359,
   "metadata": {},
   "outputs": [
    {
     "data": {
      "text/html": [
       "<div>\n",
       "<style scoped>\n",
       "    .dataframe tbody tr th:only-of-type {\n",
       "        vertical-align: middle;\n",
       "    }\n",
       "\n",
       "    .dataframe tbody tr th {\n",
       "        vertical-align: top;\n",
       "    }\n",
       "\n",
       "    .dataframe thead th {\n",
       "        text-align: right;\n",
       "    }\n",
       "</style>\n",
       "<table border=\"1\" class=\"dataframe\">\n",
       "  <thead>\n",
       "    <tr style=\"text-align: right;\">\n",
       "      <th></th>\n",
       "      <th>id</th>\n",
       "      <th>document</th>\n",
       "      <th>label</th>\n",
       "    </tr>\n",
       "  </thead>\n",
       "  <tbody>\n",
       "    <tr>\n",
       "      <th>1957</th>\n",
       "      <td>8251773</td>\n",
       "      <td>평점조절 점짜리는 아니지만 볼만했다 점이상은 됨막판에 급전개만 아니였어도  괜찮은 영화임</td>\n",
       "      <td>1</td>\n",
       "    </tr>\n",
       "    <tr>\n",
       "      <th>30075</th>\n",
       "      <td>8196890</td>\n",
       "      <td>긴장감도 있고 재미있습니다</td>\n",
       "      <td>1</td>\n",
       "    </tr>\n",
       "    <tr>\n",
       "      <th>7604</th>\n",
       "      <td>7447169</td>\n",
       "      <td>의미있는영화 잘봤습니다</td>\n",
       "      <td>1</td>\n",
       "    </tr>\n",
       "    <tr>\n",
       "      <th>30482</th>\n",
       "      <td>10015834</td>\n",
       "      <td>점은 됩니다</td>\n",
       "      <td>0</td>\n",
       "    </tr>\n",
       "    <tr>\n",
       "      <th>32137</th>\n",
       "      <td>8894572</td>\n",
       "      <td>후제가 궁금한게 있는데요한국판 캐스팅이랑 이거 평점 주는거랑 무슨 상관</td>\n",
       "      <td>1</td>\n",
       "    </tr>\n",
       "    <tr>\n",
       "      <th>24886</th>\n",
       "      <td>7517133</td>\n",
       "      <td>서정적인느낌으로 동화를 보는 것같아서 재미있게 보았어요 하지만 이이들은 덜 재미있다...</td>\n",
       "      <td>1</td>\n",
       "    </tr>\n",
       "    <tr>\n",
       "      <th>30286</th>\n",
       "      <td>6403671</td>\n",
       "      <td>연장을 넘 마니잡아씀너무질질끌어 잼없슴추적자보고 빛그림자는 이제 다시보기로본다는</td>\n",
       "      <td>0</td>\n",
       "    </tr>\n",
       "    <tr>\n",
       "      <th>20909</th>\n",
       "      <td>8624445</td>\n",
       "      <td>평점 많이 내려갔네 더 내려야지</td>\n",
       "      <td>0</td>\n",
       "    </tr>\n",
       "    <tr>\n",
       "      <th>34322</th>\n",
       "      <td>5132046</td>\n",
       "      <td>슬퍼잉</td>\n",
       "      <td>1</td>\n",
       "    </tr>\n",
       "    <tr>\n",
       "      <th>27186</th>\n",
       "      <td>1101279</td>\n",
       "      <td>관계맺음의 여성적 상처 그럼에도 삶은 계속된다</td>\n",
       "      <td>1</td>\n",
       "    </tr>\n",
       "    <tr>\n",
       "      <th>38643</th>\n",
       "      <td>10218698</td>\n",
       "      <td>재미있고 훌륭했습니다 명대사 가 꽤 많은</td>\n",
       "      <td>1</td>\n",
       "    </tr>\n",
       "    <tr>\n",
       "      <th>5670</th>\n",
       "      <td>8047436</td>\n",
       "      <td>개인적으로 역사물좋아하는데정말잘만든작품한글이그렇게어렵게만든지도몰랐던터뿌리깊은나무최고</td>\n",
       "      <td>1</td>\n",
       "    </tr>\n",
       "    <tr>\n",
       "      <th>3328</th>\n",
       "      <td>7918774</td>\n",
       "      <td>오늘은좀 눈물고였다ㅠㅠ가족애를 말하고싶어하는것 같은데 많이진부한ㅠㅠ</td>\n",
       "      <td>1</td>\n",
       "    </tr>\n",
       "    <tr>\n",
       "      <th>12028</th>\n",
       "      <td>5626580</td>\n",
       "      <td>평점 주는것 조차 아까운영화 전형적이 중국인들의 수준을 보여준 급영화</td>\n",
       "      <td>0</td>\n",
       "    </tr>\n",
       "    <tr>\n",
       "      <th>539</th>\n",
       "      <td>6767834</td>\n",
       "      <td>재미없다보지마라</td>\n",
       "      <td>0</td>\n",
       "    </tr>\n",
       "    <tr>\n",
       "      <th>7943</th>\n",
       "      <td>9192576</td>\n",
       "      <td>지루해 지루해 지루해 지루해</td>\n",
       "      <td>0</td>\n",
       "    </tr>\n",
       "    <tr>\n",
       "      <th>2091</th>\n",
       "      <td>8724200</td>\n",
       "      <td>그래 다신 영화 하지마</td>\n",
       "      <td>0</td>\n",
       "    </tr>\n",
       "    <tr>\n",
       "      <th>28087</th>\n",
       "      <td>8771083</td>\n",
       "      <td>옛날엔 진짜 재밋게 봤었지</td>\n",
       "      <td>0</td>\n",
       "    </tr>\n",
       "    <tr>\n",
       "      <th>36818</th>\n",
       "      <td>8131880</td>\n",
       "      <td>평점낮은 이유가있다 개연성 안드로메다 가장 어처구니없는게 반전이다 그 미친놈이랑 찍...</td>\n",
       "      <td>0</td>\n",
       "    </tr>\n",
       "    <tr>\n",
       "      <th>48061</th>\n",
       "      <td>5842531</td>\n",
       "      <td>진짜 재미없다 소재는 신선한데 액션도 별루고 스토리를 발로 썻냐</td>\n",
       "      <td>0</td>\n",
       "    </tr>\n",
       "  </tbody>\n",
       "</table>\n",
       "</div>"
      ],
      "text/plain": [
       "             id                                           document  label\n",
       "1957    8251773  평점조절 점짜리는 아니지만 볼만했다 점이상은 됨막판에 급전개만 아니였어도  괜찮은 영화임      1\n",
       "30075   8196890                                     긴장감도 있고 재미있습니다      1\n",
       "7604    7447169                                       의미있는영화 잘봤습니다      1\n",
       "30482  10015834                                             점은 됩니다      0\n",
       "32137   8894572            후제가 궁금한게 있는데요한국판 캐스팅이랑 이거 평점 주는거랑 무슨 상관      1\n",
       "24886   7517133  서정적인느낌으로 동화를 보는 것같아서 재미있게 보았어요 하지만 이이들은 덜 재미있다...      1\n",
       "30286   6403671       연장을 넘 마니잡아씀너무질질끌어 잼없슴추적자보고 빛그림자는 이제 다시보기로본다는      0\n",
       "20909   8624445                                  평점 많이 내려갔네 더 내려야지      0\n",
       "34322   5132046                                                슬퍼잉      1\n",
       "27186   1101279                          관계맺음의 여성적 상처 그럼에도 삶은 계속된다      1\n",
       "38643  10218698                             재미있고 훌륭했습니다 명대사 가 꽤 많은      1\n",
       "5670    8047436     개인적으로 역사물좋아하는데정말잘만든작품한글이그렇게어렵게만든지도몰랐던터뿌리깊은나무최고      1\n",
       "3328    7918774              오늘은좀 눈물고였다ㅠㅠ가족애를 말하고싶어하는것 같은데 많이진부한ㅠㅠ      1\n",
       "12028   5626580             평점 주는것 조차 아까운영화 전형적이 중국인들의 수준을 보여준 급영화      0\n",
       "539     6767834                                           재미없다보지마라      0\n",
       "7943    9192576                                    지루해 지루해 지루해 지루해      0\n",
       "2091    8724200                                       그래 다신 영화 하지마      0\n",
       "28087   8771083                                     옛날엔 진짜 재밋게 봤었지      0\n",
       "36818   8131880  평점낮은 이유가있다 개연성 안드로메다 가장 어처구니없는게 반전이다 그 미친놈이랑 찍...      0\n",
       "48061   5842531                진짜 재미없다 소재는 신선한데 액션도 별루고 스토리를 발로 썻냐      0"
      ]
     },
     "execution_count": 359,
     "metadata": {},
     "output_type": "execute_result"
    }
   ],
   "source": [
    "test_data.sample(20)"
   ]
  },
  {
   "cell_type": "code",
   "execution_count": 285,
   "metadata": {},
   "outputs": [],
   "source": [
    "# 불용어 \n",
    "stopwords = ['의','가','이','은','들','는','좀','잘','걍','과','도','를','으로','자','에','와','한','하다']"
   ]
  },
  {
   "cell_type": "code",
   "execution_count": 290,
   "metadata": {},
   "outputs": [],
   "source": [
    "# 형태소 분리 \n",
    "mecab= Mecab()\n",
    "\n",
    "X_train  = []\n",
    "for senten in train_data[\"document\"] : \n",
    "    X_train.append([ words for words in mecab.morphs(senten) if not words in stopwords ])\n",
    "    "
   ]
  },
  {
   "cell_type": "code",
   "execution_count": 291,
   "metadata": {},
   "outputs": [
    {
     "data": {
      "text/plain": [
       "[['아', '더', '빙', '진짜', '짜증', '나', '네요', '목소리'],\n",
       " ['흠', '포스터', '보고', '초딩', '영화', '줄', '오버', '연기', '조차', '가볍', '지', '않', '구나']]"
      ]
     },
     "execution_count": 291,
     "metadata": {},
     "output_type": "execute_result"
    }
   ],
   "source": [
    "X_train[:2] "
   ]
  },
  {
   "cell_type": "code",
   "execution_count": 294,
   "metadata": {},
   "outputs": [],
   "source": [
    "# 토큰에 정수 지정\n",
    "tokenizer = Tokenizer()\n",
    "\n",
    "tokenizer.fit_on_texts(X_train)"
   ]
  },
  {
   "cell_type": "code",
   "execution_count": 300,
   "metadata": {},
   "outputs": [
    {
     "data": {
      "text/plain": [
       "{'영화': 1,\n",
       " '다': 2,\n",
       " '고': 3,\n",
       " '하': 4,\n",
       " '을': 5,\n",
       " '보': 6,\n",
       " '게': 7,\n",
       " '지': 8,\n",
       " '있': 9,\n",
       " '없': 10,\n",
       " '좋': 11,\n",
       " '나': 12,\n",
       " '었': 13,\n",
       " '만': 14,\n",
       " '는데': 15,\n",
       " '너무': 16,\n",
       " '봤': 17,\n",
       " '적': 18,\n",
       " '안': 19,\n",
       " '정말': 20,\n",
       " '로': 21,\n",
       " '것': 22,\n",
       " '음': 23,\n",
       " '아': 24,\n",
       " '네요': 25,\n",
       " '어': 26,\n",
       " '재밌': 27,\n",
       " '지만': 28,\n",
       " '같': 29,\n",
       " '진짜': 30,\n",
       " '에서': 31,\n",
       " '했': 32,\n",
       " '기': 33,\n",
       " '네': 34,\n",
       " '않': 35,\n",
       " '점': 36,\n",
       " '거': 37,\n",
       " '았': 38,\n",
       " '수': 39,\n",
       " '되': 40,\n",
       " '면': 41,\n",
       " 'ㅋㅋ': 42,\n",
       " '인': 43,\n",
       " '말': 44,\n",
       " '연기': 45,\n",
       " '주': 46,\n",
       " '최고': 47,\n",
       " '내': 48,\n",
       " '평점': 49,\n",
       " '이런': 50,\n",
       " '던': 51,\n",
       " '어요': 52,\n",
       " '할': 53,\n",
       " '왜': 54,\n",
       " '겠': 55,\n",
       " '스토리': 56,\n",
       " '해': 57,\n",
       " 'ㅋㅋㅋ': 58,\n",
       " '습니다': 59,\n",
       " '듯': 60,\n",
       " '아니': 61,\n",
       " '드라마': 62,\n",
       " '생각': 63,\n",
       " '더': 64,\n",
       " '그': 65,\n",
       " '싶': 66,\n",
       " '사람': 67,\n",
       " '때': 68,\n",
       " '감동': 69,\n",
       " '배우': 70,\n",
       " '함': 71,\n",
       " '본': 72,\n",
       " '까지': 73,\n",
       " '뭐': 74,\n",
       " '알': 75,\n",
       " '만들': 76,\n",
       " '내용': 77,\n",
       " '볼': 78,\n",
       " '보다': 79,\n",
       " '감독': 80,\n",
       " '라': 81,\n",
       " '재미': 82,\n",
       " '그냥': 83,\n",
       " '시간': 84,\n",
       " '지루': 85,\n",
       " '중': 86,\n",
       " '재미있': 87,\n",
       " '였': 88,\n",
       " '잼': 89,\n",
       " '년': 90,\n",
       " '사랑': 91,\n",
       " '못': 92,\n",
       " '재미없': 93,\n",
       " '냐': 94,\n",
       " '쓰레기': 95,\n",
       " '서': 96,\n",
       " '라고': 97,\n",
       " '니': 98,\n",
       " '면서': 99,\n",
       " '다시': 100,\n",
       " '번': 101,\n",
       " '나오': 102,\n",
       " '하나': 103,\n",
       " '작품': 104,\n",
       " '야': 105,\n",
       " '이거': 106,\n",
       " '줄': 107,\n",
       " '해서': 108,\n",
       " '남': 109,\n",
       " '마지막': 110,\n",
       " '끝': 111,\n",
       " '정도': 112,\n",
       " '이건': 113,\n",
       " '액션': 114,\n",
       " '개': 115,\n",
       " '임': 116,\n",
       " '건': 117,\n",
       " '기대': 118,\n",
       " '다는': 119,\n",
       " '입니다': 120,\n",
       " '라는': 121,\n",
       " '완전': 122,\n",
       " '참': 123,\n",
       " '많': 124,\n",
       " 'ㅋ': 125,\n",
       " '처음': 126,\n",
       " '장면': 127,\n",
       " '다가': 128,\n",
       " '아깝': 129,\n",
       " '으면': 130,\n",
       " '모르': 131,\n",
       " '지금': 132,\n",
       " '이렇게': 133,\n",
       " '분': 134,\n",
       " '돈': 135,\n",
       " '이게': 136,\n",
       " 'ㅠㅠ': 137,\n",
       " '성': 138,\n",
       " '느낌': 139,\n",
       " '이야기': 140,\n",
       " '일': 141,\n",
       " '최악': 142,\n",
       " '된': 143,\n",
       " '시': 144,\n",
       " '봐도': 145,\n",
       " '님': 146,\n",
       " '어서': 147,\n",
       " '애': 148,\n",
       " '편': 149,\n",
       " '다고': 150,\n",
       " '넘': 151,\n",
       " '인데': 152,\n",
       " '이해': 153,\n",
       " '전': 154,\n",
       " '별로': 155,\n",
       " '걸': 156,\n",
       " '그리고': 157,\n",
       " '명작': 158,\n",
       " '난': 159,\n",
       " '또': 160,\n",
       " '역시': 161,\n",
       " '여자': 162,\n",
       " '한국': 163,\n",
       " '이상': 164,\n",
       " '는지': 165,\n",
       " '많이': 166,\n",
       " '에게': 167,\n",
       " '부터': 168,\n",
       " '주인공': 169,\n",
       " '받': 170,\n",
       " '합니다': 171,\n",
       " '대': 172,\n",
       " '두': 173,\n",
       " '우리': 174,\n",
       " '만든': 175,\n",
       " '길': 176,\n",
       " '엔': 177,\n",
       " '살': 178,\n",
       " '괜찮': 179,\n",
       " '요': 180,\n",
       " '기억': 181,\n",
       " 'ㅡㅡ': 182,\n",
       " '한다': 183,\n",
       " '연출': 184,\n",
       " 'ㅎㅎ': 185,\n",
       " '때문': 186,\n",
       " '저': 187,\n",
       " '이나': 188,\n",
       " '재': 189,\n",
       " '꼭': 190,\n",
       " '며': 191,\n",
       " '현실': 192,\n",
       " '랑': 193,\n",
       " '긴': 194,\n",
       " '무슨': 195,\n",
       " '내내': 196,\n",
       " '죽': 197,\n",
       " '결말': 198,\n",
       " '남자': 199,\n",
       " '전개': 200,\n",
       " '마음': 201,\n",
       " '세요': 202,\n",
       " '소재': 203,\n",
       " '속': 204,\n",
       " '아서': 205,\n",
       " '공포': 206,\n",
       " '데': 207,\n",
       " '다른': 208,\n",
       " '인생': 209,\n",
       " '씨': 210,\n",
       " '짜증': 211,\n",
       " '뿐': 212,\n",
       " '짱': 213,\n",
       " '은데': 214,\n",
       " '아요': 215,\n",
       " '아이': 216,\n",
       " '필요': 217,\n",
       " '유치': 218,\n",
       " '가장': 219,\n",
       " '음악': 220,\n",
       " '일본': 221,\n",
       " '낮': 222,\n",
       " '오': 223,\n",
       " '반전': 224,\n",
       " '수준': 225,\n",
       " '웃': 226,\n",
       " '다니': 227,\n",
       " '매력': 228,\n",
       " '별': 229,\n",
       " '인지': 230,\n",
       " '맞': 231,\n",
       " '가슴': 232,\n",
       " '없이': 233,\n",
       " '원작': 234,\n",
       " '인간': 235,\n",
       " '굿': 236,\n",
       " '높': 237,\n",
       " 'ㄷ': 238,\n",
       " '밋': 239,\n",
       " '만드': 240,\n",
       " '눈물': 241,\n",
       " '급': 242,\n",
       " '보여': 243,\n",
       " '준': 244,\n",
       " '찍': 245,\n",
       " '인가': 246,\n",
       " '노': 247,\n",
       " '코미디': 248,\n",
       " '신': 249,\n",
       " '용': 250,\n",
       " '모든': 251,\n",
       " '마': 252,\n",
       " '화': 253,\n",
       " '추천': 254,\n",
       " '아직': 255,\n",
       " '아닌': 256,\n",
       " '처럼': 257,\n",
       " '쓰': 258,\n",
       " '눈': 259,\n",
       " '자체': 260,\n",
       " '울': 261,\n",
       " '몰입': 262,\n",
       " '대박': 263,\n",
       " '란': 264,\n",
       " '스럽': 265,\n",
       " '몇': 266,\n",
       " '을까': 267,\n",
       " '실망': 268,\n",
       " '대한': 269,\n",
       " '는다': 270,\n",
       " '여': 271,\n",
       " '그런': 272,\n",
       " '죠': 273,\n",
       " '솔직히': 274,\n",
       " '캐릭터': 275,\n",
       " '아주': 276,\n",
       " '모두': 277,\n",
       " '전혀': 278,\n",
       " '가족': 279,\n",
       " '여운': 280,\n",
       " '건지': 281,\n",
       " '연기력': 282,\n",
       " '될': 283,\n",
       " '다면': 284,\n",
       " '뭔가': 285,\n",
       " '그래도': 286,\n",
       " '후': 287,\n",
       " '나라': 288,\n",
       " '시리즈': 289,\n",
       " 'ㅎ': 290,\n",
       " '근데': 291,\n",
       " '표현': 292,\n",
       " '모습': 293,\n",
       " '계속': 294,\n",
       " '작': 295,\n",
       " '공감': 296,\n",
       " '먹': 297,\n",
       " '제목': 298,\n",
       " '비': 299,\n",
       " '이랑': 300,\n",
       " '극장': 301,\n",
       " '치': 302,\n",
       " '이걸': 303,\n",
       " '부분': 304,\n",
       " '그렇': 305,\n",
       " '대사': 306,\n",
       " '바': 307,\n",
       " '대단': 308,\n",
       " '어디': 309,\n",
       " '개봉': 310,\n",
       " '진': 311,\n",
       " '아쉽': 312,\n",
       " '된다': 313,\n",
       " '기분': 314,\n",
       " '작가': 315,\n",
       " '진심': 316,\n",
       " '구': 317,\n",
       " '해도': 318,\n",
       " '놓': 319,\n",
       " '타임': 320,\n",
       " '봐야': 321,\n",
       " '제': 322,\n",
       " '보이': 323,\n",
       " '웃기': 324,\n",
       " '막장': 325,\n",
       " '삶': 326,\n",
       " '물': 327,\n",
       " '친구': 328,\n",
       " '잔잔': 329,\n",
       " '이제': 330,\n",
       " '조금': 331,\n",
       " '억지': 332,\n",
       " '가지': 333,\n",
       " 'ㅠ': 334,\n",
       " '영상': 335,\n",
       " '찾': 336,\n",
       " '라도': 337,\n",
       " '씬': 338,\n",
       " '딱': 339,\n",
       " '요즘': 340,\n",
       " '같이': 341,\n",
       " '스릴러': 342,\n",
       " '믿': 343,\n",
       " '싫': 344,\n",
       " '나왔': 345,\n",
       " '아까운': 346,\n",
       " '중간': 347,\n",
       " '긴장감': 348,\n",
       " '어떻게': 349,\n",
       " '개인': 350,\n",
       " '제대로': 351,\n",
       " '점수': 352,\n",
       " '부족': 353,\n",
       " '이유': 354,\n",
       " '노래': 355,\n",
       " '만큼': 356,\n",
       " 'ㅜㅜ': 357,\n",
       " '라면': 358,\n",
       " '시작': 359,\n",
       " '잇': 360,\n",
       " '구나': 361,\n",
       " '한테': 362,\n",
       " '특히': 363,\n",
       " '려고': 364,\n",
       " '날': 365,\n",
       " '제일': 366,\n",
       " '아름다운': 367,\n",
       " '시대': 368,\n",
       " '니까': 369,\n",
       " '엔딩': 370,\n",
       " '당시': 371,\n",
       " '나름': 372,\n",
       " '무섭': 373,\n",
       " '오랜만': 374,\n",
       " '나온': 375,\n",
       " '이것': 376,\n",
       " '봐': 377,\n",
       " '팬': 378,\n",
       " '해요': 379,\n",
       " '사': 380,\n",
       " '차라리': 381,\n",
       " '절대': 382,\n",
       " '세상': 383,\n",
       " '못하': 384,\n",
       " '감': 385,\n",
       " '의미': 386,\n",
       " '봄': 387,\n",
       " '훌륭': 388,\n",
       " '욕': 389,\n",
       " '너무나': 390,\n",
       " '강추': 391,\n",
       " '드': 392,\n",
       " '따뜻': 393,\n",
       " '됨': 394,\n",
       " '빼': 395,\n",
       " '느끼': 396,\n",
       " '해야': 397,\n",
       " '명': 398,\n",
       " '글': 399,\n",
       " '던데': 400,\n",
       " '뻔': 401,\n",
       " '도대체': 402,\n",
       " '어야': 403,\n",
       " '마다': 404,\n",
       " '답답': 405,\n",
       " '전쟁': 406,\n",
       " '놈': 407,\n",
       " '무엇': 408,\n",
       " '설정': 409,\n",
       " '흥미': 410,\n",
       " '만화': 411,\n",
       " '그저': 412,\n",
       " '감정': 413,\n",
       " '준다': 414,\n",
       " '수작': 415,\n",
       " '행복': 416,\n",
       " '신선': 417,\n",
       " '미국': 418,\n",
       " '앞': 419,\n",
       " '허접': 420,\n",
       " '형': 421,\n",
       " '세': 422,\n",
       " '시절': 423,\n",
       " '관객': 424,\n",
       " '사실': 425,\n",
       " '배경': 426,\n",
       " '어도': 427,\n",
       " '답': 428,\n",
       " '초반': 429,\n",
       " '웃음': 430,\n",
       " '엄청': 431,\n",
       " '자신': 432,\n",
       " '더라': 433,\n",
       " '추억': 434,\n",
       " '군': 435,\n",
       " '질': 436,\n",
       " '캐스팅': 437,\n",
       " '멋있': 438,\n",
       " '라니': 439,\n",
       " '시나리오': 440,\n",
       " '정신': 441,\n",
       " '어색': 442,\n",
       " '첨': 443,\n",
       " '머': 444,\n",
       " '슬프': 445,\n",
       " '밖에': 446,\n",
       " '분위기': 447,\n",
       " '소름': 448,\n",
       " '멋진': 449,\n",
       " '힘들': 450,\n",
       " '오늘': 451,\n",
       " '어이없': 452,\n",
       " '봐서': 453,\n",
       " '간': 454,\n",
       " '집': 455,\n",
       " '구성': 456,\n",
       " '잡': 457,\n",
       " '엄마': 458,\n",
       " '함께': 459,\n",
       " '위해': 460,\n",
       " '잊': 461,\n",
       " '졸작': 462,\n",
       " '류': 463,\n",
       " '이딴': 464,\n",
       " '문제': 465,\n",
       " '등': 466,\n",
       " '유쾌': 467,\n",
       " '킬링': 468,\n",
       " '스러운': 469,\n",
       " '결국': 470,\n",
       " '소리': 471,\n",
       " '낫': 472,\n",
       " '뭘': 473,\n",
       " '뭔': 474,\n",
       " '한데': 475,\n",
       " '역사': 476,\n",
       " '제발': 477,\n",
       " '포스터': 478,\n",
       " '아무리': 479,\n",
       " '코믹': 480,\n",
       " '어떤': 481,\n",
       " '얼마나': 482,\n",
       " '완벽': 483,\n",
       " '맘': 484,\n",
       " '애니메이션': 485,\n",
       " '러': 486,\n",
       " '주연': 487,\n",
       " '보고': 488,\n",
       " '후회': 489,\n",
       " '버리': 490,\n",
       " '뻔한': 491,\n",
       " '나요': 492,\n",
       " '어릴': 493,\n",
       " '진부': 494,\n",
       " '나올': 495,\n",
       " '장난': 496,\n",
       " '출연': 497,\n",
       " '보단': 498,\n",
       " '큰': 499,\n",
       " '책': 500,\n",
       " '됐': 501,\n",
       " '영화관': 502,\n",
       " '밖': 503,\n",
       " '더니': 504,\n",
       " '개연': 505,\n",
       " '둘': 506,\n",
       " 'ㅅ': 507,\n",
       " '충격': 508,\n",
       " '여기': 509,\n",
       " '극': 510,\n",
       " '난다': 511,\n",
       " '평가': 512,\n",
       " '잔인': 513,\n",
       " '아름답': 514,\n",
       " '줬': 515,\n",
       " '얘기': 516,\n",
       " '예술': 517,\n",
       " '갈수록': 518,\n",
       " '매우': 519,\n",
       " '든': 520,\n",
       " '위한': 521,\n",
       " '불': 522,\n",
       " '꺼': 523,\n",
       " '이후': 524,\n",
       " '이리': 525,\n",
       " '자기': 526,\n",
       " '읽': 527,\n",
       " '꽤': 528,\n",
       " '얼굴': 529,\n",
       " '반': 530,\n",
       " '옛날': 531,\n",
       " '깊': 532,\n",
       " '점대': 533,\n",
       " '티비': 534,\n",
       " '이쁘': 535,\n",
       " '원': 536,\n",
       " '시청': 537,\n",
       " '불쌍': 538,\n",
       " '못한': 539,\n",
       " '순수': 540,\n",
       " '별점': 541,\n",
       " '텐데': 542,\n",
       " '겟': 543,\n",
       " '으나': 544,\n",
       " '봐라': 545,\n",
       " '언제': 546,\n",
       " '낭비': 547,\n",
       " '비디오': 548,\n",
       " '라서': 549,\n",
       " '배': 550,\n",
       " '건가': 551,\n",
       " '장르': 552,\n",
       " '머리': 553,\n",
       " '엇': 554,\n",
       " '그래서': 555,\n",
       " '주제': 556,\n",
       " '다음': 557,\n",
       " '생각나': 558,\n",
       " '다운': 559,\n",
       " '다큐': 560,\n",
       " '궁금': 561,\n",
       " '아님': 562,\n",
       " '존나': 563,\n",
       " '그렇게': 564,\n",
       " '하지만': 565,\n",
       " '시키': 566,\n",
       " '애니': 567,\n",
       " '예전': 568,\n",
       " '누구': 569,\n",
       " '미친': 570,\n",
       " '아무': 571,\n",
       " '그만': 572,\n",
       " '미': 573,\n",
       " '진정': 574,\n",
       " '크': 575,\n",
       " '인상': 576,\n",
       " '상황': 577,\n",
       " '그러': 578,\n",
       " '뒤': 579,\n",
       " '감사': 580,\n",
       " '스릴': 581,\n",
       " '이름': 582,\n",
       " '오래': 583,\n",
       " '집중': 584,\n",
       " '본다': 585,\n",
       " '어느': 586,\n",
       " '시즌': 587,\n",
       " '약간': 588,\n",
       " '나와서': 589,\n",
       " '로맨스': 590,\n",
       " '방송': 591,\n",
       " '그나마': 592,\n",
       " '식': 593,\n",
       " '짜리': 594,\n",
       " '마세요': 595,\n",
       " '났': 596,\n",
       " '소설': 597,\n",
       " '까': 598,\n",
       " '그대로': 599,\n",
       " '여주인공': 600,\n",
       " '인물': 601,\n",
       " '걸작': 602,\n",
       " '떨어지': 603,\n",
       " '훨씬': 604,\n",
       " '그것': 605,\n",
       " '힘': 606,\n",
       " '동안': 607,\n",
       " '몰': 608,\n",
       " '케': 609,\n",
       " '죽이': 610,\n",
       " '꿈': 611,\n",
       " '너': 612,\n",
       " '대체': 613,\n",
       " '실화': 614,\n",
       " '만점': 615,\n",
       " '사회': 616,\n",
       " '평': 617,\n",
       " '짓': 618,\n",
       " '해라': 619,\n",
       " '에요': 620,\n",
       " '누가': 621,\n",
       " '전체': 622,\n",
       " '비슷': 623,\n",
       " '막': 624,\n",
       " '발연기': 625,\n",
       " '엉성': 626,\n",
       " '왔': 627,\n",
       " '입': 628,\n",
       " '귀엽': 629,\n",
       " '끝나': 630,\n",
       " '중국': 631,\n",
       " '햇': 632,\n",
       " '초딩': 633,\n",
       " '여주': 634,\n",
       " '비교': 635,\n",
       " '세계': 636,\n",
       " '여배우': 637,\n",
       " '영상미': 638,\n",
       " '감성': 639,\n",
       " '네이버': 640,\n",
       " '는가': 641,\n",
       " '구만': 642,\n",
       " '느껴': 643,\n",
       " '단': 644,\n",
       " '상': 645,\n",
       " 'ㅎㅎㅎ': 646,\n",
       " '순간': 647,\n",
       " '나이': 648,\n",
       " '려는': 649,\n",
       " '대해': 650,\n",
       " '무': 651,\n",
       " '어렸': 652,\n",
       " '첫': 653,\n",
       " '쯤': 654,\n",
       " '꿀': 655,\n",
       " '망': 656,\n",
       " '판': 657,\n",
       " '학교': 658,\n",
       " '갔': 659,\n",
       " '어설픈': 660,\n",
       " '더럽': 661,\n",
       " '생': 662,\n",
       " '돋': 663,\n",
       " '셨': 664,\n",
       " '회': 665,\n",
       " '아야': 666,\n",
       " '느낄': 667,\n",
       " '혼자': 668,\n",
       " '아들': 669,\n",
       " '어린': 670,\n",
       " '가능': 671,\n",
       " '성룡': 672,\n",
       " '졸': 673,\n",
       " '타': 674,\n",
       " '멋지': 675,\n",
       " '바로': 676,\n",
       " '교훈': 677,\n",
       " '잘못': 678,\n",
       " '한마디': 679,\n",
       " '나가': 680,\n",
       " '맛': 681,\n",
       " '당신': 682,\n",
       " '끌': 683,\n",
       " '딸': 684,\n",
       " '화려': 685,\n",
       " '길래': 686,\n",
       " '티': 687,\n",
       " '판타지': 688,\n",
       " '땜': 689,\n",
       " '달': 690,\n",
       " '맨': 691,\n",
       " '잠': 692,\n",
       " '빨리': 693,\n",
       " '똥': 694,\n",
       " '거의': 695,\n",
       " '목소리': 696,\n",
       " '든다': 697,\n",
       " '삼류': 698,\n",
       " '듣': 699,\n",
       " '전부': 700,\n",
       " '봤었': 701,\n",
       " '나온다': 702,\n",
       " '건데': 703,\n",
       " '지루함': 704,\n",
       " '독특': 705,\n",
       " '다르': 706,\n",
       " '한번': 707,\n",
       " '어른': 708,\n",
       " '질질': 709,\n",
       " 'ㅉㅉ': 710,\n",
       " '률': 711,\n",
       " '상당히': 712,\n",
       " '가치': 713,\n",
       " '씩': 714,\n",
       " '아까움': 715,\n",
       " '넣': 716,\n",
       " '아버지': 717,\n",
       " '차': 718,\n",
       " '영': 719,\n",
       " '줄거리': 720,\n",
       " '스타일': 721,\n",
       " '평론가': 722,\n",
       " '대로': 723,\n",
       " '다만': 724,\n",
       " '여러': 725,\n",
       " '갑자기': 726,\n",
       " '이번': 727,\n",
       " '군요': 728,\n",
       " '허무': 729,\n",
       " '의도': 730,\n",
       " '그러나': 731,\n",
       " '저런': 732,\n",
       " '존재': 733,\n",
       " 'ㅂ': 734,\n",
       " '존': 735,\n",
       " '밑': 736,\n",
       " '초': 737,\n",
       " '위': 738,\n",
       " '에선': 739,\n",
       " '너무너무': 740,\n",
       " '째': 741,\n",
       " '당': 742,\n",
       " '예상': 743,\n",
       " '으면서': 744,\n",
       " '성우': 745,\n",
       " '버린': 746,\n",
       " '각본': 747,\n",
       " '이러': 748,\n",
       " '그녀': 749,\n",
       " '화면': 750,\n",
       " 'ㄱ': 751,\n",
       " '비해': 752,\n",
       " '점점': 753,\n",
       " '떠나': 754,\n",
       " '자연': 755,\n",
       " '뻔하': 756,\n",
       " '평범': 757,\n",
       " '굉장히': 758,\n",
       " '만나': 759,\n",
       " '담': 760,\n",
       " '슬픈': 761,\n",
       " '그런지': 762,\n",
       " '예쁘': 763,\n",
       " '복수': 764,\n",
       " '단순': 765,\n",
       " '중요': 766,\n",
       " '낸': 767,\n",
       " '줌': 768,\n",
       " '갖': 769,\n",
       " '댓글': 770,\n",
       " '극장판': 771,\n",
       " '돼': 772,\n",
       " '새로운': 773,\n",
       " '제작': 774,\n",
       " '피': 775,\n",
       " '만족': 776,\n",
       " '못했': 777,\n",
       " '앗': 778,\n",
       " '일단': 779,\n",
       " '쉽': 780,\n",
       " '선택': 781,\n",
       " '한편': 782,\n",
       " '쓴': 783,\n",
       " '버렸': 784,\n",
       " '굳': 785,\n",
       " '아빠': 786,\n",
       " '관람': 787,\n",
       " '요소': 788,\n",
       " '불편': 789,\n",
       " '항상': 790,\n",
       " '스': 791,\n",
       " '지나': 792,\n",
       " '거기': 793,\n",
       " '한다는': 794,\n",
       " '나옴': 795,\n",
       " '연출력': 796,\n",
       " '그때': 797,\n",
       " '탄탄': 798,\n",
       " '롭': 799,\n",
       " '잃': 800,\n",
       " '에로': 801,\n",
       " '려': 802,\n",
       " '흥행': 803,\n",
       " '한심': 804,\n",
       " '부': 805,\n",
       " '물론': 806,\n",
       " '거나': 807,\n",
       " '예요': 808,\n",
       " '역대': 809,\n",
       " '편집': 810,\n",
       " '따라': 811,\n",
       " '관계': 812,\n",
       " '전형': 813,\n",
       " '산': 814,\n",
       " '진행': 815,\n",
       " '삼': 816,\n",
       " '짧': 817,\n",
       " '아닌가': 818,\n",
       " '충분히': 819,\n",
       " '멜': 820,\n",
       " '법': 821,\n",
       " '총': 822,\n",
       " '에겐': 823,\n",
       " '조': 824,\n",
       " '던가': 825,\n",
       " '안타깝': 826,\n",
       " '이하': 827,\n",
       " '따': 828,\n",
       " '식상': 829,\n",
       " '자꾸': 830,\n",
       " '훈훈': 831,\n",
       " '도록': 832,\n",
       " '게임': 833,\n",
       " '미안': 834,\n",
       " '아까워': 835,\n",
       " '화이팅': 836,\n",
       " '곳': 837,\n",
       " '김': 838,\n",
       " '원래': 839,\n",
       " '그게': 840,\n",
       " '구요': 841,\n",
       " '자극': 842,\n",
       " '몰랐': 843,\n",
       " '몸': 844,\n",
       " '어쩔': 845,\n",
       " '풀': 846,\n",
       " '손': 847,\n",
       " '사건': 848,\n",
       " '똑같': 849,\n",
       " '뭔지': 850,\n",
       " '설명': 851,\n",
       " '잖아': 852,\n",
       " '어울리': 853,\n",
       " '나쁜': 854,\n",
       " '팔': 855,\n",
       " '그래픽': 856,\n",
       " '노력': 857,\n",
       " '귀신': 858,\n",
       " '짐': 859,\n",
       " '도저히': 860,\n",
       " '상상': 861,\n",
       " '과거': 862,\n",
       " '조차': 863,\n",
       " '간다': 864,\n",
       " '됬': 865,\n",
       " '아프': 866,\n",
       " '닿': 867,\n",
       " '장': 868,\n",
       " '개그': 869,\n",
       " '황당': 870,\n",
       " '프랑스': 871,\n",
       " '무조건': 872,\n",
       " '홍콩': 873,\n",
       " '취향': 874,\n",
       " '죽음': 875,\n",
       " '듬': 876,\n",
       " '코메디': 877,\n",
       " '미치': 878,\n",
       " '발': 879,\n",
       " '중반': 880,\n",
       " '빠': 881,\n",
       " '속편': 882,\n",
       " '새끼': 883,\n",
       " '했었': 884,\n",
       " '빠져': 885,\n",
       " '소중': 886,\n",
       " '프로': 887,\n",
       " '짱짱': 888,\n",
       " '무비': 889,\n",
       " '병맛': 890,\n",
       " '더빙': 891,\n",
       " '빙': 892,\n",
       " '역': 893,\n",
       " 'ㅜ': 894,\n",
       " '나쁘': 895,\n",
       " '간만에': 896,\n",
       " '좋아하': 897,\n",
       " '아쉬운': 898,\n",
       " '멋': 899,\n",
       " '넘치': 900,\n",
       " '상영': 901,\n",
       " '진지': 902,\n",
       " '빠지': 903,\n",
       " '끝내': 904,\n",
       " '더욱': 905,\n",
       " '참신': 906,\n",
       " '괜히': 907,\n",
       " '쳐': 908,\n",
       " '무서운': 909,\n",
       " '특유': 910,\n",
       " '유명': 911,\n",
       " '척': 912,\n",
       " '심리': 913,\n",
       " '결혼': 914,\n",
       " '전설': 915,\n",
       " '엄청난': 916,\n",
       " '숨': 917,\n",
       " '오히려': 918,\n",
       " '헐': 919,\n",
       " '예고편': 920,\n",
       " '짜': 921,\n",
       " '또한': 922,\n",
       " '고자': 923,\n",
       " '후반부': 924,\n",
       " '틀': 925,\n",
       " '아저씨': 926,\n",
       " '바보': 927,\n",
       " '심하': 928,\n",
       " '왕': 929,\n",
       " '연기자': 930,\n",
       " '촬영': 931,\n",
       " '리': 932,\n",
       " '아도': 933,\n",
       " '천재': 934,\n",
       " '소녀': 935,\n",
       " '느꼈': 936,\n",
       " '그리': 937,\n",
       " '로맨틱': 938,\n",
       " '조연': 939,\n",
       " '비추': 940,\n",
       " '최근': 941,\n",
       " '이란': 942,\n",
       " '희망': 943,\n",
       " '으니': 944,\n",
       " '억지로': 945,\n",
       " '가볍': 946,\n",
       " '는구나': 947,\n",
       " 'ㄴ': 948,\n",
       " '마무리': 949,\n",
       " '표정': 950,\n",
       " '쩔': 951,\n",
       " '현재': 952,\n",
       " '전편': 953,\n",
       " '아무것': 954,\n",
       " '온': 955,\n",
       " '힘든': 956,\n",
       " '로서': 957,\n",
       " '부모': 958,\n",
       " '어라': 959,\n",
       " '이야': 960,\n",
       " '던지': 961,\n",
       " '동화': 962,\n",
       " '순': 963,\n",
       " '대작': 964,\n",
       " '아쉬움': 965,\n",
       " '점주': 966,\n",
       " '서로': 967,\n",
       " '저질': 968,\n",
       " '진실': 969,\n",
       " '즐겁': 970,\n",
       " '노출': 971,\n",
       " '대한민국': 972,\n",
       " '빨': 973,\n",
       " '흠': 974,\n",
       " '메세지': 975,\n",
       " '우연히': 976,\n",
       " '적당': 977,\n",
       " '그림': 978,\n",
       " '묘사': 979,\n",
       " '여성': 980,\n",
       " '이미': 981,\n",
       " '그런데': 982,\n",
       " '땐': 983,\n",
       " '지난': 984,\n",
       " '엉망': 985,\n",
       " '이래': 986,\n",
       " '경찰': 987,\n",
       " '그닥': 988,\n",
       " '프로그램': 989,\n",
       " '살인': 990,\n",
       " '쩌': 991,\n",
       " '유머': 992,\n",
       " '오빠': 993,\n",
       " '남기': 994,\n",
       " '어설프': 995,\n",
       " '십': 996,\n",
       " '네여': 997,\n",
       " '돌': 998,\n",
       " '청춘': 999,\n",
       " '열': 1000,\n",
       " ...}"
      ]
     },
     "execution_count": 300,
     "metadata": {},
     "output_type": "execute_result"
    }
   ],
   "source": [
    "tokenizer.word_index  # 49946 개 "
   ]
  },
  {
   "cell_type": "code",
   "execution_count": 298,
   "metadata": {},
   "outputs": [
    {
     "name": "stderr",
     "output_type": "stream",
     "text": [
      "100%|██████████| 48852/48852 [00:05<00:00, 8605.05it/s]\n"
     ]
    }
   ],
   "source": [
    "# 리뷰데이터를  형태소 분해하고 불용어 제거  \n",
    "X_test = []\n",
    "for sentence in tqdm(test_data['document']):\n",
    "    tokenized_sentence = mecab.morphs(sentence) # 토큰화\n",
    "    stopwords_removed_sentence = [word for word in tokenized_sentence if not word in stopwords] # 불용어 제거\n",
    "    X_test.append(stopwords_removed_sentence)"
   ]
  },
  {
   "cell_type": "code",
   "execution_count": 374,
   "metadata": {},
   "outputs": [
    {
     "data": {
      "text/plain": [
       "['만세']"
      ]
     },
     "execution_count": 374,
     "metadata": {},
     "output_type": "execute_result"
    }
   ],
   "source": [
    "불용어 = [\"대\",'한',\"민국\"]\n",
    "문장 = [\"대\",\"한\",\"민국\",\"만세\"]\n",
    "h = [ i for i in 문장 if i not in 불용어  ]\n",
    "h"
   ]
  },
  {
   "cell_type": "code",
   "execution_count": 301,
   "metadata": {},
   "outputs": [
    {
     "name": "stdout",
     "output_type": "stream",
     "text": [
      "아 8947\n",
      "더 5128\n",
      "빙 268\n",
      "진짜 8301\n",
      "짜증 1470\n",
      "나 12530\n",
      "네요 8930\n",
      "목소리 368\n",
      "흠 239\n",
      "포스터 568\n"
     ]
    }
   ],
   "source": [
    "i = 0\n",
    "for key, value in tokenizer.word_counts.items():\n",
    "    print(key, value) \n",
    "    i += 1 \n",
    "    if i ==10 : \n",
    "        break\n",
    "       "
   ]
  },
  {
   "cell_type": "markdown",
   "metadata": {},
   "source": [
    "### 빈도가 낮은 단어 제거 "
   ]
  },
  {
   "cell_type": "code",
   "execution_count": 303,
   "metadata": {},
   "outputs": [
    {
     "name": "stdout",
     "output_type": "stream",
     "text": [
      "단어 집합(vocabulary)의 크기 : 49946\n",
      "등장 빈도가 2번 이하인 희귀 단어의 수: 28320\n",
      "단어 집합에서 희귀 단어의 비율: 56.70123733632323\n",
      "전체 등장 빈도에서 희귀 단어 등장 빈도 비율: 1.7606788534131563\n"
     ]
    }
   ],
   "source": [
    "threshold = 3\n",
    "total_cnt = len(tokenizer.word_index) # 단어의 수\n",
    "rare_cnt = 0 # 등장 빈도수가 threshold보다 작은 단어의 개수를 카운트\n",
    "total_freq = 0 # 훈련 데이터의 전체 단어 빈도수 총 합\n",
    "rare_freq = 0 # 등장 빈도수가 threshold보다 작은 단어의 등장 빈도수의 총 합\n",
    "\n",
    "# 단어와 빈도수의 쌍(pair)을 key와 value로 받는다.\n",
    "for key, value in tokenizer.word_counts.items():\n",
    "    total_freq = total_freq + value\n",
    "\n",
    "    # 단어의 등장 빈도수가 threshold보다 작으면\n",
    "    if(value < threshold):\n",
    "        rare_cnt = rare_cnt + 1\n",
    "        rare_freq = rare_freq + value\n",
    "\n",
    "print('단어 집합(vocabulary)의 크기 :',total_cnt)\n",
    "print('등장 빈도가 %s번 이하인 희귀 단어의 수: %s'%(threshold - 1, rare_cnt))\n",
    "print(\"단어 집합에서 희귀 단어의 비율:\", (rare_cnt / total_cnt)*100)\n",
    "print(\"전체 등장 빈도에서 희귀 단어 등장 빈도 비율:\", (rare_freq / total_freq)*100)"
   ]
  },
  {
   "cell_type": "code",
   "execution_count": 304,
   "metadata": {},
   "outputs": [
    {
     "data": {
      "text/plain": [
       "21627"
      ]
     },
     "execution_count": 304,
     "metadata": {},
     "output_type": "execute_result"
    }
   ],
   "source": [
    "vocab_size = total_cnt - rare_cnt + 1  # 중요하지 않은 단어 삭제 , 0번 패딩 토큰을 위해 + 1 \n",
    "vocab_size "
   ]
  },
  {
   "cell_type": "code",
   "execution_count": 305,
   "metadata": {},
   "outputs": [],
   "source": [
    "tokenizer = Tokenizer(vocab_size) \n",
    "tokenizer.fit_on_texts(X_train)\n",
    "X_train = tokenizer.texts_to_sequences(X_train)\n",
    "X_test = tokenizer.texts_to_sequences(X_test)"
   ]
  },
  {
   "cell_type": "code",
   "execution_count": 306,
   "metadata": {},
   "outputs": [
    {
     "data": {
      "text/plain": [
       "[[24, 64, 892, 30, 211, 12, 25, 696],\n",
       " [974, 478, 488, 633, 1, 107, 1551, 45, 863, 946, 8, 35, 361],\n",
       " [16, 189]]"
      ]
     },
     "execution_count": 306,
     "metadata": {},
     "output_type": "execute_result"
    }
   ],
   "source": [
    "X_train[:3]"
   ]
  },
  {
   "cell_type": "code",
   "execution_count": 307,
   "metadata": {},
   "outputs": [],
   "source": [
    "y_train = np.array(train_data['label'])\n",
    "y_test = np.array(test_data['label'])"
   ]
  },
  {
   "cell_type": "code",
   "execution_count": 308,
   "metadata": {},
   "outputs": [],
   "source": [
    "# 빈도가 낮은 단어로 이루어진 문장들은 공백이 되었을 수 있기 떄문에 길이가 0인 문장은 삭제 해준다 . \n",
    "drop_train = [index for index, sentence in enumerate(X_train) if len(sentence) < 1]"
   ]
  },
  {
   "cell_type": "code",
   "execution_count": 309,
   "metadata": {},
   "outputs": [
    {
     "name": "stdout",
     "output_type": "stream",
     "text": [
      "145190\n",
      "145190\n"
     ]
    },
    {
     "name": "stderr",
     "output_type": "stream",
     "text": [
      "/Users/tjrksp/opt/anaconda3/envs/s3n2/lib/python3.8/site-packages/numpy/lib/function_base.py:5071: VisibleDeprecationWarning: Creating an ndarray from ragged nested sequences (which is a list-or-tuple of lists-or-tuples-or ndarrays with different lengths or shapes) is deprecated. If you meant to do this, you must specify 'dtype=object' when creating the ndarray.\n",
      "  arr = asarray(arr)\n"
     ]
    }
   ],
   "source": [
    "X_train = np.delete(X_train, drop_train, axis=0)\n",
    "y_train = np.delete(y_train, drop_train, axis=0)\n",
    "print(len(X_train))\n",
    "print(len(y_train))"
   ]
  },
  {
   "cell_type": "code",
   "execution_count": 310,
   "metadata": {},
   "outputs": [
    {
     "name": "stdout",
     "output_type": "stream",
     "text": [
      "리뷰의 최대 길이 : 83\n",
      "리뷰의 평균 길이 : 13.576107169915284\n"
     ]
    },
    {
     "data": {
      "image/png": "[encoded data removed]",
      "text/plain": [
       "<Figure size 640x480 with 1 Axes>"
      ]
     },
     "metadata": {},
     "output_type": "display_data"
    }
   ],
   "source": [
    "print('리뷰의 최대 길이 :',max(len(review) for review in X_train))\n",
    "print('리뷰의 평균 길이 :',sum(map(len, X_train))/len(X_train))\n",
    "plt.hist([len(review) for review in X_train], bins=50)\n",
    "plt.xlabel('length of samples')\n",
    "plt.ylabel('number of samples')\n",
    "plt.show()"
   ]
  },
  {
   "cell_type": "code",
   "execution_count": 311,
   "metadata": {},
   "outputs": [],
   "source": [
    "def below_threshold_len(max_len, nested_list):\n",
    "  count = 0\n",
    "  for sentence in nested_list:\n",
    "    if(len(sentence) <= max_len):\n",
    "        count = count + 1\n",
    "  print('전체 샘플 중 길이가 %s 이하인 샘플의 비율: %s'%(max_len, (count / len(nested_list))*100))"
   ]
  },
  {
   "cell_type": "code",
   "execution_count": 312,
   "metadata": {},
   "outputs": [
    {
     "name": "stdout",
     "output_type": "stream",
     "text": [
      "전체 샘플 중 길이가 40 이하인 샘플의 비율: 95.04924581582753\n"
     ]
    }
   ],
   "source": [
    "max_len = 40\n",
    "below_threshold_len(max_len, X_train)"
   ]
  },
  {
   "cell_type": "markdown",
   "metadata": {},
   "source": [
    "### 패딩 - 전처리 끝 \n"
   ]
  },
  {
   "cell_type": "code",
   "execution_count": 313,
   "metadata": {},
   "outputs": [],
   "source": [
    "X_train = pad_sequences(X_train, maxlen=max_len)\n",
    "X_test = pad_sequences(X_test, maxlen=max_len)"
   ]
  },
  {
   "cell_type": "markdown",
   "metadata": {},
   "source": [
    "### 모델학습"
   ]
  },
  {
   "cell_type": "code",
   "execution_count": 314,
   "metadata": {},
   "outputs": [
    {
     "name": "stderr",
     "output_type": "stream",
     "text": [
      "2022-10-04 15:23:17.361527: I tensorflow/core/platform/cpu_feature_guard.cc:193] This TensorFlow binary is optimized with oneAPI Deep Neural Network Library (oneDNN) to use the following CPU instructions in performance-critical operations:  AVX2 FMA\n",
      "To enable them in other operations, rebuild TensorFlow with the appropriate compiler flags.\n"
     ]
    },
    {
     "name": "stdout",
     "output_type": "stream",
     "text": [
      "Epoch 1/15\n",
      "1815/1815 [==============================] - ETA: 0s - loss: 0.3872 - acc: 0.8257\n",
      "Epoch 1: val_acc improved from -inf to 0.84699, saving model to best_model.h5\n",
      "1815/1815 [==============================] - 123s 66ms/step - loss: 0.3872 - acc: 0.8257 - val_loss: 0.3454 - val_acc: 0.8470\n",
      "Epoch 2/15\n",
      "1815/1815 [==============================] - ETA: 0s - loss: 0.3206 - acc: 0.8624\n",
      "Epoch 2: val_acc improved from 0.84699 to 0.85939, saving model to best_model.h5\n",
      "1815/1815 [==============================] - 121s 67ms/step - loss: 0.3206 - acc: 0.8624 - val_loss: 0.3237 - val_acc: 0.8594\n",
      "Epoch 3/15\n",
      "1814/1815 [============================>.] - ETA: 0s - loss: 0.2934 - acc: 0.8766\n",
      "Epoch 3: val_acc improved from 0.85939 to 0.86029, saving model to best_model.h5\n",
      "1815/1815 [==============================] - 118s 65ms/step - loss: 0.2934 - acc: 0.8766 - val_loss: 0.3231 - val_acc: 0.8603\n",
      "Epoch 4/15\n",
      "1815/1815 [==============================] - ETA: 0s - loss: 0.2729 - acc: 0.8875\n",
      "Epoch 4: val_acc improved from 0.86029 to 0.86542, saving model to best_model.h5\n",
      "1815/1815 [==============================] - 105s 58ms/step - loss: 0.2729 - acc: 0.8875 - val_loss: 0.3170 - val_acc: 0.8654\n",
      "Epoch 5/15\n",
      "1815/1815 [==============================] - ETA: 0s - loss: 0.2558 - acc: 0.8959\n",
      "Epoch 5: val_acc did not improve from 0.86542\n",
      "1815/1815 [==============================] - 118s 65ms/step - loss: 0.2558 - acc: 0.8959 - val_loss: 0.3160 - val_acc: 0.8647\n",
      "Epoch 6/15\n",
      "1815/1815 [==============================] - ETA: 0s - loss: 0.2397 - acc: 0.9042\n",
      "Epoch 6: val_acc did not improve from 0.86542\n",
      "1815/1815 [==============================] - 109s 60ms/step - loss: 0.2397 - acc: 0.9042 - val_loss: 0.3200 - val_acc: 0.8643\n",
      "Epoch 7/15\n",
      "1815/1815 [==============================] - ETA: 0s - loss: 0.2246 - acc: 0.9112\n",
      "Epoch 7: val_acc did not improve from 0.86542\n",
      "1815/1815 [==============================] - 121s 67ms/step - loss: 0.2246 - acc: 0.9112 - val_loss: 0.3230 - val_acc: 0.8634\n",
      "Epoch 8/15\n",
      "1814/1815 [============================>.] - ETA: 0s - loss: 0.2102 - acc: 0.9185\n",
      "Epoch 8: val_acc did not improve from 0.86542\n",
      "1815/1815 [==============================] - 111s 61ms/step - loss: 0.2102 - acc: 0.9185 - val_loss: 0.3307 - val_acc: 0.8613\n",
      "Epoch 9/15\n",
      "1815/1815 [==============================] - ETA: 0s - loss: 0.1955 - acc: 0.9246\n",
      "Epoch 9: val_acc did not improve from 0.86542\n",
      "1815/1815 [==============================] - 97s 53ms/step - loss: 0.1955 - acc: 0.9246 - val_loss: 0.3400 - val_acc: 0.8609\n",
      "Epoch 9: early stopping\n"
     ]
    }
   ],
   "source": [
    "from tensorflow.keras.layers import Embedding, Dense, LSTM\n",
    "from tensorflow.keras.models import Sequential\n",
    "from tensorflow.keras.models import load_model\n",
    "from tensorflow.keras.callbacks import EarlyStopping, ModelCheckpoint\n",
    "\n",
    "embedding_dim = 100\n",
    "hidden_units = 128\n",
    "\n",
    "model = Sequential()\n",
    "model.add(Embedding(vocab_size, embedding_dim))\n",
    "model.add(LSTM(hidden_units))\n",
    "model.add(Dense(1, activation='sigmoid'))\n",
    "\n",
    "es = EarlyStopping(monitor='val_loss', mode='min', verbose=1, patience=4)\n",
    "mc = ModelCheckpoint('best_model.h5', monitor='val_acc', mode='max', verbose=1, save_best_only=True)\n",
    "\n",
    "model.compile(optimizer='rmsprop', loss='binary_crossentropy', metrics=['acc'])\n",
    "history = model.fit(X_train, y_train, epochs=15, callbacks=[es, mc], batch_size=64, validation_split=0.2)"
   ]
  },
  {
   "cell_type": "markdown",
   "metadata": {},
   "source": [
    "### 베스트 모델"
   ]
  },
  {
   "cell_type": "code",
   "execution_count": 315,
   "metadata": {},
   "outputs": [
    {
     "name": "stdout",
     "output_type": "stream",
     "text": [
      "1527/1527 [==============================] - 18s 12ms/step - loss: 0.3213 - acc: 0.8636\n",
      "\n",
      " 테스트 정확도: 0.8636\n"
     ]
    }
   ],
   "source": [
    "loaded_model = load_model('best_model.h5')\n",
    "print(\"\\n 테스트 정확도: %.4f\" % (loaded_model.evaluate(X_test, y_test)[1]))"
   ]
  },
  {
   "cell_type": "markdown",
   "metadata": {},
   "source": [
    "### 모델 시현 해보기 "
   ]
  },
  {
   "cell_type": "code",
   "execution_count": 318,
   "metadata": {},
   "outputs": [],
   "source": [
    "def sentiment_predict(new_sentence):\n",
    "  new_sentence = re.sub(r'[^ㄱ-ㅎㅏ-ㅣ가-힣 ]','', new_sentence)\n",
    "  new_sentence = mecab.morphs(new_sentence) # 토큰화\n",
    "  new_sentence = [word for word in new_sentence if not word in stopwords] # 불용어 제거\n",
    "  encoded = tokenizer.texts_to_sequences([new_sentence]) # 정수 인코딩\n",
    "  pad_new = pad_sequences(encoded, maxlen = max_len) # 패딩\n",
    "  score = float(loaded_model.predict(pad_new)) # 예측\n",
    "  if(score > 0.5):\n",
    "    print(\"{:.2f}% 확률로 긍정 리뷰입니다.\\n\".format(score * 100))\n",
    "  else:\n",
    "    print(\"{:.2f}% 확률로 부정 리뷰입니다.\\n\".format((1 - score) * 100))"
   ]
  },
  {
   "cell_type": "code",
   "execution_count": 319,
   "metadata": {},
   "outputs": [
    {
     "name": "stdout",
     "output_type": "stream",
     "text": [
      "1/1 [==============================] - 1s 515ms/step\n",
      "92.78% 확률로 부정 리뷰입니다.\n",
      "\n"
     ]
    }
   ],
   "source": [
    "sentiment_predict(\"아 시간만 버렸다..\")"
   ]
  },
  {
   "cell_type": "code",
   "execution_count": 320,
   "metadata": {},
   "outputs": [
    {
     "name": "stdout",
     "output_type": "stream",
     "text": [
      "1/1 [==============================] - 0s 28ms/step\n",
      "69.01% 확률로 긍정 리뷰입니다.\n",
      "\n"
     ]
    }
   ],
   "source": [
    "sentiment_predict(\"시간 가는 줄 모르고 봤다\")"
   ]
  },
  {
   "cell_type": "code",
   "execution_count": 321,
   "metadata": {},
   "outputs": [
    {
     "name": "stdout",
     "output_type": "stream",
     "text": [
      "1/1 [==============================] - 0s 34ms/step\n",
      "95.27% 확률로 긍정 리뷰입니다.\n",
      "\n"
     ]
    }
   ],
   "source": [
    "sentiment_predict(\"다음에 또 봐야지\")"
   ]
  },
  {
   "cell_type": "code",
   "execution_count": 322,
   "metadata": {},
   "outputs": [
    {
     "name": "stdout",
     "output_type": "stream",
     "text": [
      "1/1 [==============================] - 0s 33ms/step\n",
      "93.37% 확률로 부정 리뷰입니다.\n",
      "\n"
     ]
    }
   ],
   "source": [
    "sentiment_predict(\"보는 내내 졸다가 왔음\")"
   ]
  },
  {
   "cell_type": "code",
   "execution_count": 331,
   "metadata": {},
   "outputs": [
    {
     "name": "stdout",
     "output_type": "stream",
     "text": [
      "1/1 [==============================] - 0s 39ms/step\n",
      "90.20% 확률로 부정 리뷰입니다.\n",
      "\n"
     ]
    }
   ],
   "source": [
    "sentiment_predict(\"시간 아까워서 눈물이 나왔다\")"
   ]
  },
  {
   "cell_type": "code",
   "execution_count": 360,
   "metadata": {},
   "outputs": [
    {
     "name": "stdout",
     "output_type": "stream",
     "text": [
      "1/1 [==============================] - 0s 65ms/step\n",
      "89.70% 확률로 부정 리뷰입니다.\n",
      "\n"
     ]
    }
   ],
   "source": [
    "sentiment_predict(\"시간은 금인데..\")"
   ]
  },
  {
   "cell_type": "code",
   "execution_count": 370,
   "metadata": {},
   "outputs": [
    {
     "name": "stdout",
     "output_type": "stream",
     "text": [
      "1/1 [==============================] - 0s 36ms/step\n",
      "86.36% 확률로 부정 리뷰입니다.\n",
      "\n"
     ]
    }
   ],
   "source": [
    "sentiment_predict(\"이 영화 보면서 짜증내는 사람들 이해 안됨\")"
   ]
  },
  {
   "cell_type": "markdown",
   "metadata": {},
   "source": [
    "### 한계점 : 모델이 전체 맥락을 파악하지 못함. \n",
    "### 아쉬움 & 개선점 : 이번에는 레이블이 달린 데이터를 구해서 딥러닝을 구현 했지만 다음 번에는 감정사전을 만들어 레이블을 직접 달아주고 싶습니다. "
   ]
  }
 ],
 "metadata": {
  "kernelspec": {
   "display_name": "Python 3.8.13 ('s3n2')",
   "language": "python",
   "name": "python3"
  },
  "language_info": {
   "codemirror_mode": {
    "name": "ipython",
    "version": 3
   },
   "file_extension": ".py",
   "mimetype": "text/x-python",
   "name": "python",
   "nbconvert_exporter": "python",
   "pygments_lexer": "ipython3",
   "version": "3.8.13"
  },
  "orig_nbformat": 4,
  "vscode": {
   "interpreter": {
    "hash": "0d057adbee6b0ad3162b8882a54fbf2211f9bc40096161965d59a4fb3c08f0f4"
   }
  }
 },
 "nbformat": 4,
 "nbformat_minor": 2
}
